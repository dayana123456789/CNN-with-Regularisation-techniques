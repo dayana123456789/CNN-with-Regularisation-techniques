{
 "cells": [
  {
   "cell_type": "code",
   "execution_count": 3,
   "metadata": {
    "id": "zHuxP8JWdna0"
   },
   "outputs": [],
   "source": [
    "import pandas as pd\n",
    "from sklearn.datasets import make_classification\n",
    "import seaborn as sns \n",
    "import matplotlib.pyplot as plt\n",
    "import numpy as np\n",
    "from keras.models import Sequential\n",
    "import tensorflow as tf\n",
    "from sklearn.model_selection import train_test_split\n",
    "from keras import regularizers\n",
    "from keras.callbacks import EarlyStopping\n",
    "import plotly.express as px\n",
    "from keras.layers import Dense,Dropout,Conv1D,MaxPooling1D,Flatten,BatchNormalization\n",
    "from tensorflow.keras import layers,initializers\n",
    "from keras.callbacks import LearningRateScheduler\n",
    "from keras.callbacks import History\n",
    "from keras import losses\n",
    "from livelossplot import PlotLossesKeras\n",
    "from keras.callbacks import EarlyStopping"
   ]
  },
  {
   "cell_type": "code",
   "execution_count": 2,
   "metadata": {},
   "outputs": [],
   "source": [
    "#pip install livelossplot"
   ]
  },
  {
   "cell_type": "code",
   "execution_count": 4,
   "metadata": {
    "id": "N-51EIrFfMN5"
   },
   "outputs": [],
   "source": [
    "x,y=make_classification(n_samples=10000,n_features=100,n_informative=5,n_redundant=15,random_state=1)"
   ]
  },
  {
   "cell_type": "code",
   "execution_count": 5,
   "metadata": {
    "id": "uY1n7OZdgGcw"
   },
   "outputs": [],
   "source": [
    "x_train,x_test,y_train,y_test=train_test_split(x,y,test_size=.25,random_state=42)"
   ]
  },
  {
   "cell_type": "code",
   "execution_count": 5,
   "metadata": {
    "colab": {
     "base_uri": "https://localhost:8080/"
    },
    "id": "u0KLtIl2gQNN",
    "outputId": "f19770e3-b33d-4cbc-bc4b-ccf75130a41f"
   },
   "outputs": [
    {
     "name": "stdout",
     "output_type": "stream",
     "text": [
      "(7500, 100) (7500,)\n",
      "(2500, 100) (2500,)\n"
     ]
    }
   ],
   "source": [
    "print(x_train.shape,y_train.shape)\n",
    "print(x_test.shape,y_test.shape)"
   ]
  },
  {
   "cell_type": "markdown",
   "metadata": {
    "id": "BtL8Y5IGiDuL"
   },
   "source": [
    "# **WITHOUT REGULARISATION**"
   ]
  },
  {
   "cell_type": "code",
   "execution_count": 6,
   "metadata": {
    "id": "o21CeZechigL"
   },
   "outputs": [],
   "source": [
    "model=Sequential()\n",
    "initializer=tf.keras.initializers.GlorotUniform() #Xavier intialiser for weights \n",
    "model.add(Conv1D(64,2,activation='relu',kernel_initializer=initializer,input_shape=(100,1),use_bias=False))  #The filter (64)--the number of output filters in convention layer in CNN,kernal size=height*width\n",
    "model.add(BatchNormalization())\n",
    "model.add(Dense(32,activation=\"relu\"))\n",
    "model.add(BatchNormalization())\n",
    "model.add(MaxPooling1D())\n",
    "model.add(Flatten())\n",
    "model.add(Dense(2,activation=\"softmax\"))"
   ]
  },
  {
   "cell_type": "code",
   "execution_count": 7,
   "metadata": {
    "id": "Q7KcnctclUXQ"
   },
   "outputs": [],
   "source": [
    "model.compile(optimizer='adam',loss='sparse_categorical_crossentropy',metrics=['accuracy'])"
   ]
  },
  {
   "cell_type": "code",
   "execution_count": 8,
   "metadata": {
    "id": "A3OP04Lasr5O"
   },
   "outputs": [],
   "source": [
    "history=model.fit(x_train,y_train,epochs=50,validation_data=(x_test,y_test),verbose=0)"
   ]
  },
  {
   "cell_type": "code",
   "execution_count": 9,
   "metadata": {
    "colab": {
     "base_uri": "https://localhost:8080/"
    },
    "id": "bLKhZ8L8wCBL",
    "outputId": "ee9f1ce0-2f39-4485-cf70-b88c2d5211e1"
   },
   "outputs": [
    {
     "name": "stdout",
     "output_type": "stream",
     "text": [
      "Model: \"sequential\"\n",
      "_________________________________________________________________\n",
      " Layer (type)                Output Shape              Param #   \n",
      "=================================================================\n",
      " conv1d (Conv1D)             (None, 99, 64)            128       \n",
      "                                                                 \n",
      " batch_normalization (BatchN  (None, 99, 64)           256       \n",
      " ormalization)                                                   \n",
      "                                                                 \n",
      " dense (Dense)               (None, 99, 32)            2080      \n",
      "                                                                 \n",
      " batch_normalization_1 (Batc  (None, 99, 32)           128       \n",
      " hNormalization)                                                 \n",
      "                                                                 \n",
      " max_pooling1d (MaxPooling1D  (None, 49, 32)           0         \n",
      " )                                                               \n",
      "                                                                 \n",
      " flatten (Flatten)           (None, 1568)              0         \n",
      "                                                                 \n",
      " dense_1 (Dense)             (None, 2)                 3138      \n",
      "                                                                 \n",
      "=================================================================\n",
      "Total params: 5,730\n",
      "Trainable params: 5,538\n",
      "Non-trainable params: 192\n",
      "_________________________________________________________________\n"
     ]
    }
   ],
   "source": [
    "model.summary()"
   ]
  },
  {
   "cell_type": "code",
   "execution_count": 10,
   "metadata": {
    "colab": {
     "base_uri": "https://localhost:8080/"
    },
    "id": "pd64Jmjpzy1A",
    "outputId": "507f5c9f-cb4a-492d-ca8f-adc72f45c39d"
   },
   "outputs": [
    {
     "name": "stdout",
     "output_type": "stream",
     "text": [
      "79/79 [==============================] - 0s 2ms/step - loss: 0.3164 - accuracy: 0.9016\n",
      "Accuracy = 90.16000032424927\n",
      "Loss = 31.640508770942688\n"
     ]
    }
   ],
   "source": [
    "loss, accuracy =model.evaluate(x_test, y_test)\n",
    "print('Accuracy =', (accuracy*100))\n",
    "print(\"Loss =\",(loss*100))"
   ]
  },
  {
   "cell_type": "code",
   "execution_count": 11,
   "metadata": {
    "id": "gfNNKiI08eEc"
   },
   "outputs": [],
   "source": [
    "def plot_learningCurve(history, epoch):\n",
    "  # Plot training & validation accuracy values\n",
    "  plt.figure(figsize=(5,5))\n",
    "  epoch_range = range(1, epoch+1)\n",
    "  plt.plot(epoch_range, history.history['accuracy'])\n",
    "  plt.plot(epoch_range, history.history['val_accuracy'])\n",
    "  plt.title('Model accuracy')\n",
    "  plt.ylabel('Accuracy')\n",
    "  plt.xlabel('Epoch')\n",
    "  plt.legend(['Train', 'Val'], loc='upper left')\n",
    "  plt.show()\n",
    "\n",
    "  # Plot training & validation loss values\n",
    "  plt.figure(figsize=(5,5))\n",
    "  plt.plot(epoch_range, history.history['loss'])\n",
    "  plt.plot(epoch_range, history.history['val_loss'])\n",
    "  plt.title('Model loss')\n",
    "  plt.ylabel('Loss')\n",
    "  plt.xlabel('Epoch')\n",
    "  plt.legend(['Train', 'Val'], loc='upper left')\n",
    "  plt.show()"
   ]
  },
  {
   "cell_type": "code",
   "execution_count": 12,
   "metadata": {
    "colab": {
     "base_uri": "https://localhost:8080/",
     "height": 683
    },
    "id": "3NAYbVtp8fyh",
    "outputId": "5ebd6d4d-c8eb-4049-a8f8-cc59c7bb376c"
   },
   "outputs": [
    {
     "data": {
      "image/png": "[encoded data removed]",
      "text/plain": [
       "<Figure size 360x360 with 1 Axes>"
      ]
     },
     "metadata": {
      "needs_background": "light"
     },
     "output_type": "display_data"
    },
    {
     "data": {
      "image/png": "[encoded data removed]",
      "text/plain": [
       "<Figure size 360x360 with 1 Axes>"
      ]
     },
     "metadata": {
      "needs_background": "light"
     },
     "output_type": "display_data"
    }
   ],
   "source": [
    "plot_learningCurve(history,50)"
   ]
  },
  {
   "cell_type": "markdown",
   "metadata": {
    "id": "I2hGwQDD-j0J"
   },
   "source": [
    "The model is **ovefitted**.To reduce overfiited we are using regularsiation methods.\n",
    "\n",
    "Regularisation Methods\n",
    "\n",
    "*Dropout\n",
    "\n",
    "*L1 and L2 \n",
    "\n",
    "*Early Stopping"
   ]
  },
  {
   "cell_type": "markdown",
   "metadata": {
    "id": "DPHSz4HhFo5L"
   },
   "source": [
    "# **DROPOUT**"
   ]
  },
  {
   "cell_type": "code",
   "execution_count": 13,
   "metadata": {
    "id": "ao7_Hv_5-EpE"
   },
   "outputs": [],
   "source": [
    "model1=Sequential()\n",
    "initializer=tf.keras.initializers.GlorotUniform() #Xavier intialiser for weights \n",
    "model1.add(Conv1D(64,2,activation='relu',kernel_initializer=initializer,input_shape=(100,1),use_bias=False))  #The filter (64)--the number of output filters in convention layer in CNN,kernal size=height*width\n",
    "model1.add(Dropout(0.5))\n",
    "model1.add(BatchNormalization())\n",
    "model1.add(Dense(32,activation=\"relu\"))\n",
    "model1.add(Dropout(0.2))\n",
    "model1.add(BatchNormalization())\n",
    "model1.add(MaxPooling1D())\n",
    "model1.add(Flatten())\n",
    "model1.add(Dense(2,activation=\"softmax\"))"
   ]
  },
  {
   "cell_type": "code",
   "execution_count": 14,
   "metadata": {
    "id": "5mYX7DOI_c_y"
   },
   "outputs": [],
   "source": [
    "model1.compile(optimizer='adam',loss='sparse_categorical_crossentropy',metrics=['accuracy'])"
   ]
  },
  {
   "cell_type": "code",
   "execution_count": 15,
   "metadata": {
    "id": "4ujW0cWa_g1_"
   },
   "outputs": [],
   "source": [
    "history=model1.fit(x_train,y_train,epochs=50,validation_data=(x_test,y_test),verbose=0)"
   ]
  },
  {
   "cell_type": "code",
   "execution_count": 16,
   "metadata": {
    "colab": {
     "base_uri": "https://localhost:8080/"
    },
    "id": "F0soYCIl_pjI",
    "outputId": "b1b09d1e-0ad9-4926-f605-4d6bf1b762cc"
   },
   "outputs": [
    {
     "name": "stdout",
     "output_type": "stream",
     "text": [
      "Model: \"sequential_1\"\n",
      "_________________________________________________________________\n",
      " Layer (type)                Output Shape              Param #   \n",
      "=================================================================\n",
      " conv1d_1 (Conv1D)           (None, 99, 64)            128       \n",
      "                                                                 \n",
      " dropout (Dropout)           (None, 99, 64)            0         \n",
      "                                                                 \n",
      " batch_normalization_2 (Batc  (None, 99, 64)           256       \n",
      " hNormalization)                                                 \n",
      "                                                                 \n",
      " dense_2 (Dense)             (None, 99, 32)            2080      \n",
      "                                                                 \n",
      " dropout_1 (Dropout)         (None, 99, 32)            0         \n",
      "                                                                 \n",
      " batch_normalization_3 (Batc  (None, 99, 32)           128       \n",
      " hNormalization)                                                 \n",
      "                                                                 \n",
      " max_pooling1d_1 (MaxPooling  (None, 49, 32)           0         \n",
      " 1D)                                                             \n",
      "                                                                 \n",
      " flatten_1 (Flatten)         (None, 1568)              0         \n",
      "                                                                 \n",
      " dense_3 (Dense)             (None, 2)                 3138      \n",
      "                                                                 \n",
      "=================================================================\n",
      "Total params: 5,730\n",
      "Trainable params: 5,538\n",
      "Non-trainable params: 192\n",
      "_________________________________________________________________\n"
     ]
    }
   ],
   "source": [
    "model1.summary()"
   ]
  },
  {
   "cell_type": "code",
   "execution_count": 17,
   "metadata": {
    "colab": {
     "base_uri": "https://localhost:8080/"
    },
    "id": "az1F3LUX_rvV",
    "outputId": "5fae9243-18e6-45df-a3eb-5aa726ed2199"
   },
   "outputs": [
    {
     "name": "stdout",
     "output_type": "stream",
     "text": [
      "79/79 [==============================] - 0s 2ms/step - loss: 0.2328 - accuracy: 0.9116\n",
      "Accuracy = 91.15999937057495\n",
      "Loss = 23.28302264213562\n"
     ]
    }
   ],
   "source": [
    "loss, accuracy =model1.evaluate(x_test, y_test)\n",
    "print('Accuracy =', (accuracy*100))\n",
    "print(\"Loss =\",(loss*100))"
   ]
  },
  {
   "cell_type": "code",
   "execution_count": 18,
   "metadata": {
    "id": "7KPo9j1y_1L_"
   },
   "outputs": [],
   "source": [
    "def plot_learningCurve(history, epoch):\n",
    "  # Plot training & validation accuracy values\n",
    "  plt.figure(figsize=(5,5))\n",
    "  epoch_range = range(1, epoch+1)\n",
    "  plt.plot(epoch_range, history.history['accuracy'])\n",
    "  plt.plot(epoch_range, history.history['val_accuracy'])\n",
    "  plt.title('Model accuracy')\n",
    "  plt.ylabel('Accuracy')\n",
    "  plt.xlabel('Epoch')\n",
    "  plt.legend(['Train', 'Val'], loc='upper left')\n",
    "  plt.show()\n",
    "\n",
    "  # Plot training & validation loss values\n",
    "  plt.figure(figsize=(5,5))\n",
    "  plt.plot(epoch_range, history.history['loss'])\n",
    "  plt.plot(epoch_range, history.history['val_loss'])\n",
    "  plt.title('Model loss')\n",
    "  plt.ylabel('Loss')\n",
    "  plt.xlabel('Epoch')\n",
    "  plt.legend(['Train', 'Val'], loc='upper left')\n",
    "  plt.show()"
   ]
  },
  {
   "cell_type": "code",
   "execution_count": 19,
   "metadata": {
    "colab": {
     "base_uri": "https://localhost:8080/",
     "height": 683
    },
    "id": "v39jwsy_BRBY",
    "outputId": "3c5b62f6-3d47-4b22-e050-d39183325f0b"
   },
   "outputs": [
    {
     "data": {
      "image/png": "[encoded data removed]",
      "text/plain": [
       "<Figure size 360x360 with 1 Axes>"
      ]
     },
     "metadata": {
      "needs_background": "light"
     },
     "output_type": "display_data"
    },
    {
     "data": {
      "image/png": "[encoded data removed]",
      "text/plain": [
       "<Figure size 360x360 with 1 Axes>"
      ]
     },
     "metadata": {
      "needs_background": "light"
     },
     "output_type": "display_data"
    }
   ],
   "source": [
    "plot_learningCurve(history,50)"
   ]
  },
  {
   "cell_type": "markdown",
   "metadata": {
    "id": "6W30o7nbB0y6"
   },
   "source": [
    "# **L1 and L2 Regularisation**"
   ]
  },
  {
   "cell_type": "code",
   "execution_count": 20,
   "metadata": {
    "id": "K-UzDylPBx8S"
   },
   "outputs": [],
   "source": [
    "model2=Sequential()\n",
    "initializer=tf.keras.initializers.GlorotUniform() #Xavier intialiser for weights \n",
    "model2.add(Conv1D(64,2,activation='relu',kernel_initializer=initializer,input_shape=(100,1),kernel_regularizer =tf.keras.regularizers.l1( l=0.01),use_bias=False))  #The filter (64)--the number of output filters in convention layer in CNN,kernal size=height*width\n",
    "model2.add(BatchNormalization())\n",
    "model2.add(Dense(32,activation=\"relu\"))\n",
    "model2.add(BatchNormalization())\n",
    "model2.add(MaxPooling1D())\n",
    "model2.add(Flatten())\n",
    "model2.add(Dense(2,activation=\"softmax\"))"
   ]
  },
  {
   "cell_type": "code",
   "execution_count": 21,
   "metadata": {
    "id": "-yhNJZX7JLOh"
   },
   "outputs": [],
   "source": [
    "model2.compile(optimizer='adam',loss='sparse_categorical_crossentropy',metrics=['accuracy'])"
   ]
  },
  {
   "cell_type": "code",
   "execution_count": 22,
   "metadata": {
    "id": "6j-Q_LOjFH4Z"
   },
   "outputs": [],
   "source": [
    "history=model2.fit(x_train,y_train,epochs=50,validation_data=(x_test,y_test),verbose=0)"
   ]
  },
  {
   "cell_type": "code",
   "execution_count": 23,
   "metadata": {
    "colab": {
     "base_uri": "https://localhost:8080/"
    },
    "id": "i74SUJZfF9Dp",
    "outputId": "640f0d16-0fc1-4426-861c-a9d730faaa6a"
   },
   "outputs": [
    {
     "name": "stdout",
     "output_type": "stream",
     "text": [
      "Model: \"sequential_2\"\n",
      "_________________________________________________________________\n",
      " Layer (type)                Output Shape              Param #   \n",
      "=================================================================\n",
      " conv1d_2 (Conv1D)           (None, 99, 64)            128       \n",
      "                                                                 \n",
      " batch_normalization_4 (Batc  (None, 99, 64)           256       \n",
      " hNormalization)                                                 \n",
      "                                                                 \n",
      " dense_4 (Dense)             (None, 99, 32)            2080      \n",
      "                                                                 \n",
      " batch_normalization_5 (Batc  (None, 99, 32)           128       \n",
      " hNormalization)                                                 \n",
      "                                                                 \n",
      " max_pooling1d_2 (MaxPooling  (None, 49, 32)           0         \n",
      " 1D)                                                             \n",
      "                                                                 \n",
      " flatten_2 (Flatten)         (None, 1568)              0         \n",
      "                                                                 \n",
      " dense_5 (Dense)             (None, 2)                 3138      \n",
      "                                                                 \n",
      "=================================================================\n",
      "Total params: 5,730\n",
      "Trainable params: 5,538\n",
      "Non-trainable params: 192\n",
      "_________________________________________________________________\n"
     ]
    }
   ],
   "source": [
    "model2.summary()"
   ]
  },
  {
   "cell_type": "code",
   "execution_count": 24,
   "metadata": {
    "colab": {
     "base_uri": "https://localhost:8080/"
    },
    "id": "fo3DsjdxF_ij",
    "outputId": "1c6de6e3-f91a-4c6a-bec7-257ce86e0ea8"
   },
   "outputs": [
    {
     "name": "stdout",
     "output_type": "stream",
     "text": [
      "79/79 [==============================] - 0s 2ms/step - loss: 0.2853 - accuracy: 0.9056\n",
      "Accuracy = 90.56000113487244\n",
      "Loss = 28.53359580039978\n"
     ]
    }
   ],
   "source": [
    "loss, accuracy =model2.evaluate(x_test, y_test)\n",
    "print('Accuracy =', (accuracy*100))\n",
    "print(\"Loss =\",(loss*100))"
   ]
  },
  {
   "cell_type": "code",
   "execution_count": 25,
   "metadata": {
    "id": "I403M-ICGBfk"
   },
   "outputs": [],
   "source": [
    "def plot_learningCurve(history, epoch):\n",
    "  # Plot training & validation accuracy values\n",
    "  plt.figure(figsize=(5,5))\n",
    "  epoch_range = range(1, epoch+1)\n",
    "  plt.plot(epoch_range, history.history['accuracy'])\n",
    "  plt.plot(epoch_range, history.history['val_accuracy'])\n",
    "  plt.title('Model accuracy')\n",
    "  plt.ylabel('Accuracy')\n",
    "  plt.xlabel('Epoch')\n",
    "  plt.legend(['Train', 'Val'], loc='upper left')\n",
    "  plt.show()\n",
    "\n",
    "  # Plot training & validation loss values\n",
    "  plt.figure(figsize=(5,5))\n",
    "  plt.plot(epoch_range, history.history['loss'])\n",
    "  plt.plot(epoch_range, history.history['val_loss'])\n",
    "  plt.title('Model loss')\n",
    "  plt.ylabel('Loss')\n",
    "  plt.xlabel('Epoch')\n",
    "  plt.legend(['Train', 'Val'], loc='upper left')\n",
    "  plt.show()"
   ]
  },
  {
   "cell_type": "code",
   "execution_count": 26,
   "metadata": {
    "colab": {
     "base_uri": "https://localhost:8080/",
     "height": 683
    },
    "id": "PG8WfToZGNQc",
    "outputId": "87385a99-4fe8-42ea-af09-2b4c460c854d"
   },
   "outputs": [
    {
     "data": {
      "image/png": "[encoded data removed]",
      "text/plain": [
       "<Figure size 360x360 with 1 Axes>"
      ]
     },
     "metadata": {
      "needs_background": "light"
     },
     "output_type": "display_data"
    },
    {
     "data": {
      "image/png": "[encoded data removed]",
      "text/plain": [
       "<Figure size 360x360 with 1 Axes>"
      ]
     },
     "metadata": {
      "needs_background": "light"
     },
     "output_type": "display_data"
    }
   ],
   "source": [
    "plot_learningCurve(history,50)"
   ]
  },
  {
   "cell_type": "markdown",
   "metadata": {
    "id": "X5O_zYN9GclI"
   },
   "source": [
    "# **EARLY STOPPING**"
   ]
  },
  {
   "cell_type": "code",
   "execution_count": 27,
   "metadata": {
    "id": "yP6WtzQyGb0U"
   },
   "outputs": [],
   "source": [
    "model3=Sequential()\n",
    "initializer=tf.keras.initializers.GlorotUniform() #Xavier intialiser for weights \n",
    "model3.add(Conv1D(64,2,activation='relu',kernel_initializer=initializer,input_shape=(100,1),use_bias=False))  #The filter (64)--the number of output filters in convention layer in CNN,kernal size=height*width\n",
    "model3.add(BatchNormalization())\n",
    "model3.add(Dense(32,activation=\"relu\"))\n",
    "model3.add(BatchNormalization())\n",
    "model3.add(MaxPooling1D())\n",
    "model3.add(Flatten())\n",
    "model3.add(Dense(2,activation=\"softmax\"))\n",
    "monitor_val_acc = EarlyStopping(monitor = 'val_loss', patience = 5)"
   ]
  },
  {
   "cell_type": "code",
   "execution_count": 28,
   "metadata": {
    "id": "UNy6m60mJcyQ"
   },
   "outputs": [],
   "source": [
    "model3.compile(optimizer='adam',loss='sparse_categorical_crossentropy',metrics=['accuracy'])"
   ]
  },
  {
   "cell_type": "code",
   "execution_count": 29,
   "metadata": {
    "id": "D48tlUCjGzM_"
   },
   "outputs": [],
   "source": [
    "history=model3.fit(x_train,y_train,epochs=50,validation_data=(x_test,y_test),verbose=0)"
   ]
  },
  {
   "cell_type": "code",
   "execution_count": 30,
   "metadata": {
    "colab": {
     "base_uri": "https://localhost:8080/"
    },
    "id": "dqC_wy_vG36E",
    "outputId": "4bde4b59-c042-4602-d1f2-75fcd8a99369"
   },
   "outputs": [
    {
     "name": "stdout",
     "output_type": "stream",
     "text": [
      "79/79 [==============================] - 0s 2ms/step - loss: 0.3106 - accuracy: 0.8916\n",
      "Accuracy = 89.16000127792358\n",
      "Loss = 31.05544149875641\n"
     ]
    }
   ],
   "source": [
    "loss, accuracy =model3.evaluate(x_test, y_test)\n",
    "print('Accuracy =', (accuracy*100))\n",
    "print(\"Loss =\",(loss*100))"
   ]
  },
  {
   "cell_type": "code",
   "execution_count": 31,
   "metadata": {
    "colab": {
     "base_uri": "https://localhost:8080/",
     "height": 706
    },
    "id": "JgmLdav7Jlia",
    "outputId": "01aee387-8416-4d2c-cddc-8b43c685b420"
   },
   "outputs": [
    {
     "data": {
      "image/png": "[encoded data removed]",
      "text/plain": [
       "<Figure size 864x576 with 2 Axes>"
      ]
     },
     "metadata": {
      "needs_background": "light"
     },
     "output_type": "display_data"
    },
    {
     "name": "stdout",
     "output_type": "stream",
     "text": [
      "accuracy\n",
      "\ttraining         \t (min:    0.949, max:    0.956, cur:    0.952)\n",
      "\tvalidation       \t (min:    0.890, max:    0.902, cur:    0.899)\n",
      "Loss\n",
      "\ttraining         \t (min:    0.125, max:    0.131, cur:    0.126)\n",
      "\tvalidation       \t (min:    0.290, max:    0.313, cur:    0.311)\n"
     ]
    },
    {
     "data": {
      "text/plain": [
       "<keras.callbacks.History at 0x1dfe400c040>"
      ]
     },
     "execution_count": 31,
     "metadata": {},
     "output_type": "execute_result"
    }
   ],
   "source": [
    "model3.fit(x_train,y_train,epochs=50,batch_size=30,validation_data=(x_test,y_test),callbacks=[PlotLossesKeras(), monitor_val_acc], verbose=0)"
   ]
  },
  {
   "cell_type": "code",
   "execution_count": 32,
   "metadata": {
    "colab": {
     "base_uri": "https://localhost:8080/"
    },
    "id": "gZm0O4eYG7ZZ",
    "outputId": "2213c5ef-ad51-4b02-f1db-dffc091f39a5"
   },
   "outputs": [
    {
     "name": "stdout",
     "output_type": "stream",
     "text": [
      "Model: \"sequential_3\"\n",
      "_________________________________________________________________\n",
      " Layer (type)                Output Shape              Param #   \n",
      "=================================================================\n",
      " conv1d_3 (Conv1D)           (None, 99, 64)            128       \n",
      "                                                                 \n",
      " batch_normalization_6 (Batc  (None, 99, 64)           256       \n",
      " hNormalization)                                                 \n",
      "                                                                 \n",
      " dense_6 (Dense)             (None, 99, 32)            2080      \n",
      "                                                                 \n",
      " batch_normalization_7 (Batc  (None, 99, 32)           128       \n",
      " hNormalization)                                                 \n",
      "                                                                 \n",
      " max_pooling1d_3 (MaxPooling  (None, 49, 32)           0         \n",
      " 1D)                                                             \n",
      "                                                                 \n",
      " flatten_3 (Flatten)         (None, 1568)              0         \n",
      "                                                                 \n",
      " dense_7 (Dense)             (None, 2)                 3138      \n",
      "                                                                 \n",
      "=================================================================\n",
      "Total params: 5,730\n",
      "Trainable params: 5,538\n",
      "Non-trainable params: 192\n",
      "_________________________________________________________________\n"
     ]
    }
   ],
   "source": [
    "model3.summary()"
   ]
  },
  {
   "cell_type": "code",
   "execution_count": 33,
   "metadata": {
    "colab": {
     "base_uri": "https://localhost:8080/",
     "height": 175
    },
    "id": "zUnyp6M7KqLd",
    "outputId": "e9ffb273-e78c-4db5-8ef5-012296d60ae5"
   },
   "outputs": [
    {
     "data": {
      "text/html": [
       "<div>\n",
       "<style scoped>\n",
       "    .dataframe tbody tr th:only-of-type {\n",
       "        vertical-align: middle;\n",
       "    }\n",
       "\n",
       "    .dataframe tbody tr th {\n",
       "        vertical-align: top;\n",
       "    }\n",
       "\n",
       "    .dataframe thead th {\n",
       "        text-align: right;\n",
       "    }\n",
       "</style>\n",
       "<table border=\"1\" class=\"dataframe\">\n",
       "  <thead>\n",
       "    <tr style=\"text-align: right;\">\n",
       "      <th></th>\n",
       "      <th>Parameters used</th>\n",
       "      <th>Regularisation_Methods</th>\n",
       "      <th>Epochs</th>\n",
       "      <th>Optimizer used</th>\n",
       "      <th>Loss</th>\n",
       "      <th>Accuracy</th>\n",
       "    </tr>\n",
       "  </thead>\n",
       "  <tbody>\n",
       "    <tr>\n",
       "      <th>0</th>\n",
       "      <td>Xavier Initialiser</td>\n",
       "      <td>Without Regularisation</td>\n",
       "      <td>50</td>\n",
       "      <td>adam</td>\n",
       "      <td>38.380</td>\n",
       "      <td>86.790</td>\n",
       "    </tr>\n",
       "    <tr>\n",
       "      <th>1</th>\n",
       "      <td>Batch Normalisation</td>\n",
       "      <td>Dropout</td>\n",
       "      <td>50</td>\n",
       "      <td>adam</td>\n",
       "      <td>31.522</td>\n",
       "      <td>88.040</td>\n",
       "    </tr>\n",
       "    <tr>\n",
       "      <th>2</th>\n",
       "      <td>Conv1D with kernal size 2 &amp; filter 64</td>\n",
       "      <td>L1 and L2</td>\n",
       "      <td>50</td>\n",
       "      <td>adam</td>\n",
       "      <td>38.067</td>\n",
       "      <td>87.319</td>\n",
       "    </tr>\n",
       "    <tr>\n",
       "      <th>3</th>\n",
       "      <td>Total number of NEURONS :34</td>\n",
       "      <td>Early Stopping</td>\n",
       "      <td>50</td>\n",
       "      <td>adam</td>\n",
       "      <td>38.200</td>\n",
       "      <td>86.910</td>\n",
       "    </tr>\n",
       "  </tbody>\n",
       "</table>\n",
       "</div>"
      ],
      "text/plain": [
       "                         Parameters used  Regularisation_Methods  Epochs  \\\n",
       "0                     Xavier Initialiser  Without Regularisation      50   \n",
       "1                    Batch Normalisation                 Dropout      50   \n",
       "2  Conv1D with kernal size 2 & filter 64              L1 and L2       50   \n",
       "3            Total number of NEURONS :34          Early Stopping      50   \n",
       "\n",
       "  Optimizer used    Loss  Accuracy  \n",
       "0           adam  38.380    86.790  \n",
       "1           adam  31.522    88.040  \n",
       "2           adam  38.067    87.319  \n",
       "3           adam  38.200    86.910  "
      ]
     },
     "execution_count": 33,
     "metadata": {},
     "output_type": "execute_result"
    }
   ],
   "source": [
    "data={\"Parameters used\":[\"Xavier Initialiser\",\"Batch Normalisation\",\"Conv1D with kernal size 2 & filter 64\",\"Total number of NEURONS :34\"],\"Regularisation_Methods\":[\"Without Regularisation\",\"Dropout\",\"L1 and L2 \",\"Early Stopping\"],\"Epochs\":[50,50,50,50],\"Optimizer used\":[\"adam\",\"adam\",\"adam\",\"adam\"],\"Loss\":[38.38,31.522,38.067,38.20],\"Accuracy\":[86.79,88.040,87.319,86.91]}\n",
    "df=pd.DataFrame(data)\n",
    "df"
   ]
  },
  {
   "cell_type": "markdown",
   "metadata": {},
   "source": [
    "# Therefore Dropuout Regularisation method gives less loss and high accuracy than other regularisation methods.\n",
    "\n",
    "Using this model we can hypertune the parameters"
   ]
  },
  {
   "cell_type": "markdown",
   "metadata": {},
   "source": [
    "# Hypertunning the model with Dropout regularisation to improve the accuracy and reduce the loss"
   ]
  },
  {
   "cell_type": "code",
   "execution_count": 7,
   "metadata": {
    "id": "DeSwsWuLVIHm"
   },
   "outputs": [
    {
     "name": "stderr",
     "output_type": "stream",
     "text": [
      "C:\\Users\\Dayana Vincent\\AppData\\Local\\Temp\\ipykernel_1840\\1210106566.py:17: DeprecationWarning: KerasClassifier is deprecated, use Sci-Keras (https://github.com/adriangb/scikeras) instead. See https://www.adriangb.com/scikeras/stable/migration.html for help migrating.\n",
      "  model=KerasClassifier(build_fn=build_classifer,verbose=0,epochs=50)\n"
     ]
    }
   ],
   "source": [
    "from tensorflow.keras import activations\n",
    "def build_classifer(optimizer,kernel_initializer,dropout,loss,learning_rate=0.001):\n",
    "  model1=Sequential()\n",
    "   #Xavier intialiser for weights \n",
    "  model1.add(Conv1D(64,2,activation='relu',kernel_initializer=kernel_initializer,input_shape=(100,1),use_bias=False))  #The filter (64)--the number of output filters in convention layer in CNN,kernal size=height*width\n",
    "  model1.add(Dropout(0.5))\n",
    "  model1.add(BatchNormalization())\n",
    "  model1.add(Dense(32,activation=\"relu\"))\n",
    "  model1.add(Dropout(0.2))\n",
    "  model1.add(BatchNormalization())\n",
    "  model1.add(MaxPooling1D())\n",
    "  model1.add(Flatten())\n",
    "  model1.add(Dense(2,activation=\"softmax\"))\n",
    "  model1.compile(optimizer=optimizer,loss='sparse_categorical_crossentropy',metrics=['accuracy'])\n",
    "  return model1\n",
    "from tensorflow.keras.wrappers.scikit_learn import KerasClassifier\n",
    "model=KerasClassifier(build_fn=build_classifer,verbose=0,epochs=50)\n",
    "kernel_initializer=['uniform', 'lecun_uniform', 'normal', 'zero', 'glorot_normal', 'glorot_uniform', 'he_normal', 'he_uniform']\n",
    "optimizer= [\"Adam\",\"Adagrad\",\"sgd\"]\n",
    "loss= [\"binary_crossentropy\",\"mean_squared_error\",\"mean_absolute_error\"]\n",
    "dropout= [0, 0.40, 0.8]\n",
    "params = dict(optimizer=optimizer,kernel_initializer=kernel_initializer,dropout=dropout,loss=loss)"
   ]
  },
  {
   "cell_type": "code",
   "execution_count": null,
   "metadata": {},
   "outputs": [],
   "source": [
    "from sklearn.model_selection import GridSearchCV\n",
    "gs=GridSearchCV(estimator=model, param_grid=params,scoring='accuracy',n_jobs=-1, cv=10)\n",
    "gs = gs.fit(x_train, y_train)"
   ]
  },
  {
   "cell_type": "code",
   "execution_count": null,
   "metadata": {},
   "outputs": [],
   "source": [
    "best_params=gs.best_params_\n",
    "best_params"
   ]
  },
  {
   "cell_type": "code",
   "execution_count": null,
   "metadata": {
    "id": "bHq0HPBFzvDA"
   },
   "outputs": [],
   "source": [
    "decay_rate=0.01\n",
    "learning_rate=0.001\n",
    "epochs=100\n",
    "def exp_decay(epoch):\n",
    "  lrate=learning_rate*np.exp(-decay_rate*epochs)\n",
    "  return lrate\n",
    "\n",
    "loss_history=History()\n",
    "lr_rate=LearningRateScheduler(exp_decay)\n",
    "callback_list=[loss_history,lr_rate]\n",
    "exponential_decay_model_history=model1.fit(x_train,y_train,epochs=epochs,callbacks=callback_list,verbose=1,validation_data=(x_test,y_test))  "
   ]
  }
 ],
 "metadata": {
  "colab": {
   "provenance": []
  },
  "kernelspec": {
   "display_name": "Python 3 (ipykernel)",
   "language": "python",
   "name": "python3"
  },
  "language_info": {
   "codemirror_mode": {
    "name": "ipython",
    "version": 3
   },
   "file_extension": ".py",
   "mimetype": "text/x-python",
   "name": "python",
   "nbconvert_exporter": "python",
   "pygments_lexer": "ipython3",
   "version": "3.10.9"
  }
 },
 "nbformat": 4,
 "nbformat_minor": 1
}
